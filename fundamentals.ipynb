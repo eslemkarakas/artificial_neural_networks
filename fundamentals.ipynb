# directly import libraries
import numpy as np # for manipulating
import pandas as pd # for manipulating
import tensorflow as tf # for modelling
import seaborn as sns # for visualising
import matplotlib as mpl # for visualising
import matplotlib.pyplot as plt # for visualising

# partially import libraries
from tensorflow import keras # for modelling
